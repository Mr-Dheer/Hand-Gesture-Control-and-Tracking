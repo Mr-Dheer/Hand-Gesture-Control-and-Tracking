{
 "cells": [
  {
   "cell_type": "code",
   "execution_count": null,
   "metadata": {},
   "outputs": [],
   "source": [
    "import cv2\n",
    "import mediapipe\n",
    "from matplotlib import pyplot as plt\n",
    "\n",
    "haar_data = cv2.CascadeClassifier(\n",
    "    './opencv/haarcascades/haarcascade_frontalface_default.xml')\n"
   ]
  },
  {
   "cell_type": "code",
   "execution_count": null,
   "metadata": {},
   "outputs": [],
   "source": [
    "\n",
    "\n",
    "drawingModule = mediapipe.solutions.drawing_utils\n",
    "handsModule = mediapipe.solutions.hands\n",
    "\n",
    "capture = cv2.VideoCapture(0)\n",
    "\n",
    "with handsModule.Hands(static_image_mode=False, min_detection_confidence=0.7, min_tracking_confidence=0.7, max_num_hands=2) as hands:\n",
    "\n",
    "    while (True):\n",
    "\n",
    "        ret, frame = capture.read()\n",
    "        results = hands.process(cv2.cvtColor(frame, cv2.COLOR_BGR2RGB))\n",
    "\n",
    "        if results.multi_hand_landmarks != None:\n",
    "            for handLandmarks in results.multi_hand_landmarks:\n",
    "                drawingModule.draw_landmarks(\n",
    "                    frame, handLandmarks, handsModule.HAND_CONNECTIONS)\n",
    "\n",
    "        cv2.imshow('Test hand', frame)\n",
    "\n",
    "        if cv2.waitKey(1) == 27:\n",
    "            break\n",
    "\n",
    "cv2.destroyAllWindows()\n",
    "capture.release()\n"
   ]
  },
  {
   "cell_type": "code",
   "execution_count": null,
   "metadata": {},
   "outputs": [],
   "source": []
  }
 ],
 "metadata": {
  "language_info": {
   "name": "python"
  },
  "orig_nbformat": 4
 },
 "nbformat": 4,
 "nbformat_minor": 2
}
